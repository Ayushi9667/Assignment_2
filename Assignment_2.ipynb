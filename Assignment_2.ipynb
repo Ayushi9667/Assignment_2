{
 "cells": [
  {
   "cell_type": "code",
   "execution_count": 4,
   "id": "c11dd03e-c801-4d65-96dd-6e8bdbcfdaad",
   "metadata": {},
   "outputs": [],
   "source": [
    "#Q1. How do you comment code in Python? What are the different types of comments?\n",
    "\n",
    "\n",
    "#--->Comments in Python are identified with a hash symbol,#\n",
    "#There are three ways to write a comment - as a separate line, beside the corresponding statement of code,\n",
    "#or as a multi-line comment block."
   ]
  },
  {
   "cell_type": "code",
   "execution_count": 6,
   "id": "dbc25ec7-003f-46d6-b9b9-51fcb0a86299",
   "metadata": {},
   "outputs": [],
   "source": [
    "#Q2. What are variables in Python? How do you declare and assign values to variables?\n",
    "\n",
    "#Variable is use to store a required data in a programming language.\n",
    "#A variable is created when some value is assigned to it.\n",
    "#Just name the variable.\n",
    "#Assign the required value to it.\n",
    "#The data type of the variable will be automatically determined from the value assigned,\n",
    "\n",
    "s=\"ayu\"   #here s is a variable"
   ]
  },
  {
   "cell_type": "code",
   "execution_count": 7,
   "id": "300a95e3-cfa0-42e1-9071-991ae25b8be7",
   "metadata": {},
   "outputs": [
    {
     "data": {
      "text/plain": [
       "'ayu'"
      ]
     },
     "execution_count": 7,
     "metadata": {},
     "output_type": "execute_result"
    }
   ],
   "source": [
    "s"
   ]
  },
  {
   "cell_type": "code",
   "execution_count": 8,
   "id": "52d06e27-cd5f-42a3-b20a-a6eeb4b5a9d4",
   "metadata": {},
   "outputs": [],
   "source": [
    "#Q3. How do you convert one data type to another in Python?\n",
    "\n",
    "s=\"ayu\""
   ]
  },
  {
   "cell_type": "code",
   "execution_count": 9,
   "id": "3ad1615a-2a5a-491e-b1ce-479d3537f42e",
   "metadata": {},
   "outputs": [
    {
     "data": {
      "text/plain": [
       "str"
      ]
     },
     "execution_count": 9,
     "metadata": {},
     "output_type": "execute_result"
    }
   ],
   "source": [
    "type(s)"
   ]
  },
  {
   "cell_type": "code",
   "execution_count": 12,
   "id": "0cc32f89-d7de-4175-a321-082e32bfe0a0",
   "metadata": {},
   "outputs": [
    {
     "data": {
      "text/plain": [
       "('a', 'y', 'u')"
      ]
     },
     "execution_count": 12,
     "metadata": {},
     "output_type": "execute_result"
    }
   ],
   "source": [
    "tuple(s)"
   ]
  },
  {
   "cell_type": "code",
   "execution_count": 17,
   "id": "48b66b0d-56dc-4867-8ff6-2c346438d614",
   "metadata": {},
   "outputs": [
    {
     "data": {
      "text/plain": [
       "['a', 'y', 'u']"
      ]
     },
     "execution_count": 17,
     "metadata": {},
     "output_type": "execute_result"
    }
   ],
   "source": [
    "list(s)"
   ]
  },
  {
   "cell_type": "code",
   "execution_count": 22,
   "id": "e45be80e-56da-4234-8c12-1261342953fd",
   "metadata": {},
   "outputs": [],
   "source": [
    "#Q5. Given a list my_list = [1, 2, 3, 4, 5], write the code to slice the list and obtain the sub-list [2, 3].\n",
    "\n",
    "my_list = [1, 2, 3, 4, 5]"
   ]
  },
  {
   "cell_type": "code",
   "execution_count": 24,
   "id": "706925e2-ec29-4128-bde2-38b78317481b",
   "metadata": {},
   "outputs": [
    {
     "data": {
      "text/plain": [
       "[2, 3]"
      ]
     },
     "execution_count": 24,
     "metadata": {},
     "output_type": "execute_result"
    }
   ],
   "source": [
    "my_list[1:3]"
   ]
  },
  {
   "cell_type": "code",
   "execution_count": 25,
   "id": "5fe5dbd7-8035-4bb8-bb03-7441f67bf0ed",
   "metadata": {},
   "outputs": [],
   "source": [
    "#Q6. What is a complex number in mathematics, and how is it represented in Python?\n",
    "\n",
    "#Complex number in mathematics is a mixture of real part and imaginary part which is given by \"a+ib\", where a is real and b is imaginary.\n",
    "#but in python, complex number is represented by \"a+jb\"."
   ]
  },
  {
   "cell_type": "code",
   "execution_count": 7,
   "id": "da86ab43-0ccd-4bab-a221-3c33511470fd",
   "metadata": {},
   "outputs": [],
   "source": [
    "#Q7. What is the correct way to declare a variable named age and assign the value 25 to it?\n"
   ]
  },
  {
   "cell_type": "code",
   "execution_count": 3,
   "id": "48bc31da-2f7c-47a1-b346-84036053e1ed",
   "metadata": {},
   "outputs": [
    {
     "name": "stdin",
     "output_type": "stream",
     "text": [
      "Enter the age 25\n"
     ]
    },
    {
     "data": {
      "text/plain": [
       "25"
      ]
     },
     "execution_count": 3,
     "metadata": {},
     "output_type": "execute_result"
    }
   ],
   "source": [
    "int(input(\"Enter the age\"))"
   ]
  },
  {
   "cell_type": "code",
   "execution_count": 4,
   "id": "aa5e558a-e3cc-49fc-ba14-69ef8009184d",
   "metadata": {},
   "outputs": [],
   "source": [
    "#Q8. Declare a variable named price and assign the value 9.99 to it. What data type does this variable belong to?\n",
    "\n",
    "f=9.99"
   ]
  },
  {
   "cell_type": "code",
   "execution_count": 5,
   "id": "3d07a1bc-8acf-45d6-91cb-cf6205ea9d60",
   "metadata": {},
   "outputs": [
    {
     "data": {
      "text/plain": [
       "9.99"
      ]
     },
     "execution_count": 5,
     "metadata": {},
     "output_type": "execute_result"
    }
   ],
   "source": [
    "f"
   ]
  },
  {
   "cell_type": "code",
   "execution_count": 6,
   "id": "4a4103c5-d3a1-48a1-9b8d-d035f17c7910",
   "metadata": {},
   "outputs": [
    {
     "data": {
      "text/plain": [
       "float"
      ]
     },
     "execution_count": 6,
     "metadata": {},
     "output_type": "execute_result"
    }
   ],
   "source": [
    "type(f)"
   ]
  },
  {
   "cell_type": "code",
   "execution_count": 12,
   "id": "bb67271d-0b11-43b8-853a-a95ca7850e6c",
   "metadata": {},
   "outputs": [],
   "source": [
    "#Q9. Create a variable named name and assign your full name to it as a string. How would you print the value of this variable?"
   ]
  },
  {
   "cell_type": "code",
   "execution_count": 11,
   "id": "96afc5de-f3ad-4bba-b5b8-82a39419d483",
   "metadata": {},
   "outputs": [],
   "source": [
    "name=\"Ayushi Sinha\""
   ]
  },
  {
   "cell_type": "code",
   "execution_count": 13,
   "id": "dde28cb4-ca1b-4402-9236-caec99d63842",
   "metadata": {},
   "outputs": [
    {
     "data": {
      "text/plain": [
       "'Ayushi Sinha'"
      ]
     },
     "execution_count": 13,
     "metadata": {},
     "output_type": "execute_result"
    }
   ],
   "source": [
    "name"
   ]
  },
  {
   "cell_type": "code",
   "execution_count": 14,
   "id": "7c380060-c0db-466e-892b-135c39ab5fb4",
   "metadata": {},
   "outputs": [],
   "source": [
    "#Q10. Given the string \"Hello, World!\", extract the substring \"World\"."
   ]
  },
  {
   "cell_type": "code",
   "execution_count": 15,
   "id": "663c166e-8ff0-4134-a531-e1454afc27e7",
   "metadata": {},
   "outputs": [],
   "source": [
    "s=\"Hello, World!\""
   ]
  },
  {
   "cell_type": "code",
   "execution_count": 17,
   "id": "9baed8a1-ca25-4134-a9cf-0bbcd60be2c5",
   "metadata": {},
   "outputs": [
    {
     "data": {
      "text/plain": [
       "' World'"
      ]
     },
     "execution_count": 17,
     "metadata": {},
     "output_type": "execute_result"
    }
   ],
   "source": [
    "s[6:12]"
   ]
  },
  {
   "cell_type": "code",
   "execution_count": 18,
   "id": "4455fdc0-52b3-4a5e-93bc-3f973360ce4a",
   "metadata": {},
   "outputs": [],
   "source": [
    "#Q11. Create a variable named \"is_student\" and assign it a boolean value indicating whether you are currently a student or not"
   ]
  },
  {
   "cell_type": "code",
   "execution_count": 21,
   "id": "453ed6eb-c4b5-4107-956f-6d0a402eb9a8",
   "metadata": {},
   "outputs": [
    {
     "name": "stdin",
     "output_type": "stream",
     "text": [
      "student or not?: student\n"
     ]
    },
    {
     "name": "stdout",
     "output_type": "stream",
     "text": [
      "True\n"
     ]
    }
   ],
   "source": [
    "input(\"student or not?:\")\n",
    "student=True\n",
    "\n",
    "if is_student==student:\n",
    "    print(True)\n",
    "else:\n",
    "    print(False)"
   ]
  },
  {
   "cell_type": "code",
   "execution_count": null,
   "id": "9666201a-d90e-439c-ba6f-ec4c9f0f0e9c",
   "metadata": {},
   "outputs": [],
   "source": []
  }
 ],
 "metadata": {
  "kernelspec": {
   "display_name": "Python 3 (ipykernel)",
   "language": "python",
   "name": "python3"
  },
  "language_info": {
   "codemirror_mode": {
    "name": "ipython",
    "version": 3
   },
   "file_extension": ".py",
   "mimetype": "text/x-python",
   "name": "python",
   "nbconvert_exporter": "python",
   "pygments_lexer": "ipython3",
   "version": "3.10.8"
  }
 },
 "nbformat": 4,
 "nbformat_minor": 5
}
